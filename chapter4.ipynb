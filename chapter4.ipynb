{
 "cells": [
  {
   "cell_type": "markdown",
   "metadata": {},
   "source": [
    "## json处理"
   ]
  },
  {
   "cell_type": "code",
   "execution_count": 5,
   "metadata": {},
   "outputs": [
    {
     "name": "stdout",
     "output_type": "stream",
     "text": [
      "{'__deprecation_message__': 'This API endpoint is deprecated and will stop working on July 1st, 2018. For more information please visit: https://github.com/apilayer/freegeoip#readme', 'ip': '50.78.253.58', 'country_code': 'US', 'country_name': 'United States', 'region_code': 'MA', 'region_name': 'Massachusetts', 'city': 'Boston', 'zip_code': '02116', 'time_zone': 'America/New_York', 'latitude': 42.3496, 'longitude': -71.0746, 'metro_code': 506}\n",
      "US\n"
     ]
    }
   ],
   "source": [
    "import json\n",
    "from urllib.request import urlopen\n",
    "\n",
    "response = urlopen(\"http://freegeoip.net/json/50.78.253.58\").read().decode('utf-8')\n",
    "jsonObj = json.loads(response)\n",
    "print(jsonObj)\n",
    "print(jsonObj.get('country_code'))"
   ]
  }
 ],
 "metadata": {
  "kernelspec": {
   "display_name": "Python 3",
   "language": "python",
   "name": "python3"
  },
  "language_info": {
   "codemirror_mode": {
    "name": "ipython",
    "version": 3
   },
   "file_extension": ".py",
   "mimetype": "text/x-python",
   "name": "python",
   "nbconvert_exporter": "python",
   "pygments_lexer": "ipython3",
   "version": "3.6.4"
  }
 },
 "nbformat": 4,
 "nbformat_minor": 2
}
